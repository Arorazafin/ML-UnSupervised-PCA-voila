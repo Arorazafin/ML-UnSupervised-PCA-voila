{
 "cells": [
  {
   "cell_type": "code",
   "execution_count": 1,
   "metadata": {
    "ExecuteTime": {
     "end_time": "2021-04-10T06:01:41.341963Z",
     "start_time": "2021-04-10T06:01:41.335964Z"
    }
   },
   "outputs": [],
   "source": [
    "from pathlib import Path\n",
    "p = Path()\n"
   ]
  },
  {
   "cell_type": "code",
   "execution_count": 2,
   "metadata": {
    "ExecuteTime": {
     "end_time": "2021-04-10T06:02:02.680041Z",
     "start_time": "2021-04-10T06:02:02.670037Z"
    }
   },
   "outputs": [
    {
     "name": "stdout",
     "output_type": "stream",
     "text": [
      "resolve:  /home/jovyan/work/notebooks\n",
      "home:  /home/jovyan\n",
      "cwd:  /home/jovyan/work/notebooks\n"
     ]
    }
   ],
   "source": [
    "print('resolve: ',p.resolve())\n",
    "print('home: ',p.home())\n",
    "print('cwd: ',p.cwd())\n"
   ]
  },
  {
   "cell_type": "code",
   "execution_count": 3,
   "metadata": {
    "ExecuteTime": {
     "end_time": "2021-04-10T06:02:05.846803Z",
     "start_time": "2021-04-10T06:02:05.823755Z"
    }
   },
   "outputs": [
    {
     "data": {
      "text/plain": [
       "[PosixPath('.ipynb_checkpoints')]"
      ]
     },
     "execution_count": 3,
     "metadata": {},
     "output_type": "execute_result"
    }
   ],
   "source": [
    "p = Path('.')\n",
    "[x for x in p.iterdir() if x.is_dir()]"
   ]
  },
  {
   "cell_type": "code",
   "execution_count": null,
   "metadata": {},
   "outputs": [],
   "source": []
  }
 ],
 "metadata": {
  "kernelspec": {
   "display_name": "Python 3",
   "language": "python",
   "name": "python3"
  },
  "language_info": {
   "codemirror_mode": {
    "name": "ipython",
    "version": 3
   },
   "file_extension": ".py",
   "mimetype": "text/x-python",
   "name": "python",
   "nbconvert_exporter": "python",
   "pygments_lexer": "ipython3",
   "version": "3.8.8"
  }
 },
 "nbformat": 4,
 "nbformat_minor": 4
}
