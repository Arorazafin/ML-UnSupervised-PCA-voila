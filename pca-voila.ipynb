{
 "cells": [
  {
   "cell_type": "markdown",
   "metadata": {
    "extensions": {
     "jupyter_dashboards": {
      "version": 1,
      "views": {
       "grid_default": {
        "col": 0,
        "height": 15,
        "hidden": false,
        "row": 9,
        "width": 4
       },
       "report_default": {}
      }
     }
    }
   },
   "source": [
    "# Taux de dissolution en fonction des Process, des MP et du PA"
   ]
  },
  {
   "cell_type": "code",
   "execution_count": null,
   "metadata": {
    "ExecuteTime": {
     "end_time": "2021-04-10T06:39:23.346699Z",
     "start_time": "2021-04-10T06:39:21.602072Z"
    },
    "extensions": {
     "jupyter_dashboards": {
      "version": 1,
      "views": {
       "default_view": {
        "hidden": true
       }
      }
     }
    }
   },
   "outputs": [],
   "source": [
    "import pandas as pd\n",
    "import numpy as np\n"
   ]
  },
  {
   "cell_type": "code",
   "execution_count": null,
   "metadata": {
    "ExecuteTime": {
     "end_time": "2021-04-10T06:39:23.457392Z",
     "start_time": "2021-04-10T06:39:23.350362Z"
    }
   },
   "outputs": [],
   "source": [
    "# Read data\n",
    "from pathlib import Path\n",
    "import wget\n",
    "from zipfile import ZipFile\n",
    "\n",
    "## docker path\n",
    "xpath ='data'\n",
    "\n",
    "## path docker\n",
    "#xpath = 'work/data'\n",
    "\n",
    "data_file = xpath+'/app_pca_data.zip'\n",
    "\n",
    "fileObj = Path(data_file)\n",
    "# if not fileObj.is_file():\n",
    "#     url_zip = 'http://droppy.scale-eu.sanofi.com/$/8MhWS'\n",
    "#     wget.download(url_zip, 'data/app_pca_data.zip') \n",
    "    \n",
    "with ZipFile(data_file, 'r') as zipObj:\n",
    "    zipObj.extractall(xpath)\n",
    "\n",
    "# df_process= pd.read_csv(\"data/disso_release_pelliculage.csv\")\n",
    "# df_mp= pd.read_csv(\"data/dronedarone_mp_v2.csv\")\n",
    "# df_pa= pd.read_csv(\"data/dronedarone_pa.csv\")\n",
    "\n",
    "#Doker\n",
    "df_process= pd.read_csv(xpath+\"/disso_release_pelliculage.csv\")\n",
    "df_mp= pd.read_csv(xpath+\"/dronedarone_mp_v2.csv\")\n",
    "df_pa= pd.read_csv(xpath+\"/dronedarone_pa.csv\")\n"
   ]
  },
  {
   "cell_type": "markdown",
   "metadata": {
    "ExecuteTime": {
     "end_time": "2021-04-07T16:23:11.508255Z",
     "start_time": "2021-04-07T16:23:11.503253Z"
    },
    "extensions": {
     "jupyter_dashboards": {
      "version": 1,
      "views": {
       "default_view": {
        "col": 0,
        "height": 2,
        "row": 20,
        "width": 12
       }
      }
     }
    }
   },
   "source": [
    "# Dataset"
   ]
  },
  {
   "cell_type": "code",
   "execution_count": null,
   "metadata": {
    "ExecuteTime": {
     "end_time": "2021-04-10T06:39:23.514355Z",
     "start_time": "2021-04-10T06:39:23.466287Z"
    },
    "extensions": {
     "jupyter_dashboards": {
      "version": 1,
      "views": {
       "default_view": {
        "hidden": true
       }
      }
     }
    },
    "hide_input": false
   },
   "outputs": [],
   "source": [
    "\n",
    "features_temp = ['Temps_de_melange','Temps_de_mouillage','Temps_de_granulation', 'Temps_de_sechage']\n",
    "c0 = list(df_process.columns)\n",
    "features_num =c0.copy()\n",
    "for x in features_temp:\n",
    "    features_num.remove(x)\n",
    "features_num.remove('Batch')\n",
    "\n",
    "# transform time to seconde\n",
    "def xsecond(myTime):\n",
    "    s = myTime.hour*3600 + myTime.minute*60+myTime.second\n",
    "    return s\n",
    "\n",
    "df_process2 = df_process.copy()\n",
    "#Format time\n",
    "for c in features_temp:\n",
    "    df_process2[c] = pd.to_datetime(df_process2[c], unit='d', origin='1899-12-30')\n",
    "    df_process2[c] = [xsecond(t) for t in df_process2[c]]\n",
    "    \n",
    "# remove col\n",
    "col_toDrop = [\n",
    "    'Pelliculage',\n",
    "    'Puissance_GRANULATION',\n",
    "    'Puissance_MELANGE',\n",
    "    'Puissance_MOUILLAGE',\n",
    "    'Temperature_enceinte_GRANULATION',\n",
    "    'Temperature_enceinte_MELANGE',\n",
    "    'Temperature_enceinte_MOUILLAGE',\n",
    "]\n",
    "df_process2.drop(col_toDrop, axis =1, inplace = True) \n",
    "\n",
    "## supprimer n premières lignes\n",
    "n = 115\n",
    "df_process3 = df_process2[n:].copy()\n",
    "\n",
    "# fillna\n",
    "#bfill: use next valid observation to fill gap.\n",
    "df_process3 ['duree_pelliculage'] = df_process3 ['duree_pelliculage'].fillna(method='bfill')\n",
    "df_process3.set_index('Batch', inplace = True)\n",
    "\n",
    "df_process_final = df_process3.copy()\n",
    "\n"
   ]
  },
  {
   "cell_type": "code",
   "execution_count": null,
   "metadata": {
    "ExecuteTime": {
     "end_time": "2021-04-10T06:39:23.551218Z",
     "start_time": "2021-04-10T06:39:23.517244Z"
    },
    "extensions": {
     "jupyter_dashboards": {
      "version": 1,
      "views": {
       "default_view": {
        "hidden": true
       }
      }
     }
    },
    "hide_input": false
   },
   "outputs": [],
   "source": [
    "\n",
    "df_mp.set_index('lot',inplace = True)\n",
    "#df_mp2 = df_mp.drop_duplicates()\n",
    "df_mp2 = df_mp.reset_index().drop_duplicates(subset=['lot'])\n",
    "df_mp = df_mp2.set_index('lot').copy()\n",
    "df_mp.drop('pf', axis=1, inplace =True )\n",
    "df_mp.dropna(axis=0, how='all', inplace = True)\n",
    "df_mp.dropna(axis=1, how='all',inplace = True)\n",
    "df_mp = df_mp.fillna(method='bfill')\n",
    "\n",
    "MP_toDrop = ['AMIDON DE MAIS PE/NF - RESULTAT DGAT/g',\n",
    "             'AMIDON DE MAIS PE/NF - RESULTAT DMLT/g',\n",
    "              'HYPROMELLOSE 6MPAS PE/USP/JP - RESULTAT DGAT/g',\n",
    "              'HYPROMELLOSE 6MPAS PE/USP/JP - RESULTAT DMLT/g',\n",
    "              'LACTOSE MONOHYDRATE PE/NF - RESULTAT DGAT/g',\n",
    "              'LACTOSE MONOHYDRATE PE/NF - RESULTAT DMLT/g',\n",
    "             'MAGNESIUM STEARATE VEG PE/NF - RESULTAT DGAT/g',\n",
    "             'MAGNESIUM STEARATE VEG PE/NF - RESULTAT DMLT/g',\n",
    "]\n",
    "df_mp.drop(MP_toDrop, axis =1, inplace = True)\n",
    "df_mp_final = df_mp.copy()\n"
   ]
  },
  {
   "cell_type": "code",
   "execution_count": null,
   "metadata": {
    "ExecuteTime": {
     "end_time": "2021-04-10T06:39:23.576202Z",
     "start_time": "2021-04-10T06:39:23.561215Z"
    },
    "extensions": {
     "jupyter_dashboards": {
      "version": 1,
      "views": {
       "default_view": {
        "hidden": true
       }
      }
     }
    }
   },
   "outputs": [],
   "source": [
    "\n",
    "df_pa.set_index('lot',inplace = True)\n",
    "# remove na\n",
    "df_pa1 = df_pa[['Granulometrie: d(50)-MEAN','Granulometrie: d(90)-MEAN']]\n",
    "df_pa1 = df_pa1[~df_pa1['Granulometrie: d(50)-MEAN'].isna()]\n",
    "df_pa_final=df_pa1.copy()\n"
   ]
  },
  {
   "cell_type": "code",
   "execution_count": null,
   "metadata": {
    "ExecuteTime": {
     "end_time": "2021-04-10T06:39:23.652151Z",
     "start_time": "2021-04-10T06:39:23.581202Z"
    },
    "extensions": {
     "jupyter_dashboards": {
      "version": 1,
      "views": {
       "default_view": {
        "col": 0,
        "height": 11,
        "row": 22,
        "width": 12
       }
      }
     }
    },
    "hide_input": false
   },
   "outputs": [],
   "source": [
    "df = df_process_final.join(df_mp_final)\n",
    "df.drop(df[df['HYPROMELLOSE 6MPAS PE/USP/JP - TENEUR EN PRODUIT DOSE 2'].isna()].index, inplace = True)\n",
    "# join with pa\n",
    "df = df.join(df_pa_final)\n",
    "#df = df_process_final.join(df_pa_final)\n",
    "df = df[~df['Granulometrie: d(50)-MEAN'].isna()]\n",
    "df.info()"
   ]
  },
  {
   "cell_type": "markdown",
   "metadata": {
    "extensions": {
     "jupyter_dashboards": {
      "version": 1,
      "views": {
       "default_view": {
        "col": 0,
        "height": 2,
        "row": 33,
        "width": 12
       }
      }
     }
    }
   },
   "source": [
    "# Taux de la variance expliquée "
   ]
  },
  {
   "cell_type": "code",
   "execution_count": null,
   "metadata": {
    "ExecuteTime": {
     "end_time": "2021-04-10T06:39:23.822028Z",
     "start_time": "2021-04-10T06:39:23.659144Z"
    }
   },
   "outputs": [],
   "source": [
    "import numpy\n",
    "import scipy"
   ]
  },
  {
   "cell_type": "code",
   "execution_count": null,
   "metadata": {
    "ExecuteTime": {
     "end_time": "2021-04-10T06:39:27.655312Z",
     "start_time": "2021-04-10T06:39:23.829022Z"
    },
    "extensions": {
     "jupyter_dashboards": {
      "version": 1,
      "views": {
       "default_view": {
        "col": 0,
        "height": 16,
        "row": 35,
        "width": 7
       }
      }
     }
    },
    "hide_input": false
   },
   "outputs": [],
   "source": [
    "X = df.drop('RELEASE', axis =1)\n",
    "y = df ['RELEASE'].copy()\n",
    "y_release = df ['RELEASE'].copy()\n",
    "\n",
    "n=X.shape[0]\n",
    "p=X.shape[1]\n",
    "\n",
    "#classe pour standardisation\n",
    "from sklearn.preprocessing import StandardScaler\n",
    "#instanciation\n",
    "sc = StandardScaler()\n",
    "#transformation–centrage-réduction\n",
    "Z = sc.fit_transform(X)\n",
    "\n",
    "#classe pour l'ACP\n",
    "from sklearn.decomposition import PCA\n",
    "#instanciation\n",
    "acp = PCA(svd_solver='full')\n",
    "\n",
    "#calculs\n",
    "coord = acp.fit_transform(Z)\n",
    "\n",
    "#valeur corrigée\n",
    "eigval = (n-1)/n*acp.explained_variance_\n",
    "\n",
    "#racine carrée des valeurs propres\n",
    "sqrt_eigval = np.sqrt(eigval)\n",
    "\n",
    "#proportion de variance expliquée\n",
    "var_ratio = acp.explained_variance_ratio_\n",
    "#np.round(var_ratio,2)\n",
    "import plotly.graph_objects as go\n",
    "from plotly.subplots import make_subplots\n",
    "fig = fig = make_subplots(rows=1, cols=2)\n",
    "# Create scatter trace of text labels\n",
    "fig.add_trace(\n",
    "    go.Scatter(x=np.insert(np.arange(1,p+1),0,0), \n",
    "                y=np.insert(np.cumsum(acp.explained_variance_ratio_),0,0),\n",
    "                mode='lines+markers',                   \n",
    "), row=1, col=1)\n",
    "fig.add_trace(\n",
    "    go.Bar(x=np.insert(np.arange(1,p+1),0,0), \n",
    "                y=np.insert(acp.explained_variance_ratio_,0,0),\n",
    "                                   \n",
    "),row=1, col=2)\n",
    "\n",
    "\n",
    "\n",
    "#Title\n",
    "fig.update_layout(title='PCA: Variance expliquée')\n",
    "fig.update_layout(title_x=0.5)\n",
    "# Set figure size\n",
    "#fig.update_layout(width=600, height=600)\n",
    "fig.update_layout(showlegend=False)\n",
    "fig.update_xaxes(title=\"Nombre de dimension\")\n",
    "fig.show()\n"
   ]
  },
  {
   "cell_type": "code",
   "execution_count": null,
   "metadata": {
    "ExecuteTime": {
     "end_time": "2021-04-10T06:39:27.841175Z",
     "start_time": "2021-04-10T06:39:27.659308Z"
    },
    "extensions": {
     "jupyter_dashboards": {
      "version": 1,
      "views": {
       "default_view": {
        "hidden": true
       }
      }
     }
    }
   },
   "outputs": [],
   "source": [
    "import ipywidgets as widgets\n",
    "\n",
    "wax1 = widgets.Dropdown(\n",
    "            options= [*range(0, len(X.columns), 1)],\n",
    "            value=0,\n",
    "            description='Axe 1:',\n",
    "            disabled=False,\n",
    ")\n",
    "\n",
    "wax2 = widgets.Dropdown(\n",
    "            options= [*range(0, len(X.columns), 1)],\n",
    "            value=1,\n",
    "            description='Axe 2:',\n",
    "            disabled=False,\n",
    ")\n"
   ]
  },
  {
   "cell_type": "code",
   "execution_count": null,
   "metadata": {
    "ExecuteTime": {
     "end_time": "2021-04-10T06:39:27.901129Z",
     "start_time": "2021-04-10T06:39:27.844177Z"
    },
    "extensions": {
     "jupyter_dashboards": {
      "version": 1,
      "views": {
       "default_view": {
        "col": 7,
        "height": 16,
        "row": 35,
        "width": 5
       }
      }
     }
    }
   },
   "outputs": [],
   "source": [
    "from ipywidgets import interact\n",
    "def tx(ax1,ax2):\n",
    "    tx1 = var_ratio[ax1]\n",
    "    tx2 = var_ratio[ax2]\n",
    "    tx_sum = tx1 + tx2 \n",
    "    tx_cumul = np.cumsum(var_ratio[:(ax2+1)])[ax2]\n",
    "    return print(), print('Taux Axe1: {:.2f}%'.format(tx1)), print('Taux Axe2: {:.2f}%'.format(tx2)), print('Axe1+Axe2: {:.2f}%'.format(tx_sum)), print('Taux cumulé depuis Axe1: {:.2f}%'.format(tx_cumul)) \n",
    "\n",
    "interact (tx, ax1 = wax1, ax2=wax2)"
   ]
  },
  {
   "cell_type": "markdown",
   "metadata": {
    "extensions": {
     "jupyter_dashboards": {
      "version": 1,
      "views": {
       "default_view": {
        "col": 0,
        "height": 2,
        "row": 51,
        "width": 12
       }
      }
     }
    }
   },
   "source": [
    "# Explication des axes "
   ]
  },
  {
   "cell_type": "markdown",
   "metadata": {
    "extensions": {
     "jupyter_dashboards": {
      "version": 1,
      "views": {
       "default_view": {
        "col": 0,
        "height": 2,
        "row": 53,
        "width": 7
       }
      }
     }
    }
   },
   "source": [
    "### Selection des axes"
   ]
  },
  {
   "cell_type": "code",
   "execution_count": null,
   "metadata": {
    "ExecuteTime": {
     "end_time": "2021-04-10T06:39:28.022048Z",
     "start_time": "2021-04-10T06:39:27.904130Z"
    },
    "extensions": {
     "jupyter_dashboards": {
      "version": 1,
      "views": {
       "default_view": {
        "col": 0,
        "height": 16,
        "row": 55,
        "width": 7
       }
      }
     }
    }
   },
   "outputs": [],
   "source": [
    "#corrélation des variables avec les axes\n",
    "corvar = np.zeros((p,p))\n",
    "for k in range(p):\n",
    "    corvar[:,k] = acp.components_[k,:] * sqrt_eigval[k]\n",
    "\n",
    "\n",
    "import ipywidgets as widgets\n",
    "from ipywidgets import interact\n",
    "\n",
    "limite1 = widgets.FloatSlider(min=0,max=1,step=0.1, value =0.6)\n",
    "limite2 = widgets.FloatSlider(min=0,max=1,step=0.1, value =0.6)\n",
    "\n",
    "\n",
    "def correl_axes(ax1,ax2,l1,l2): \n",
    "    df_covar = pd.DataFrame({'id':X.columns,'COR_AXE1':corvar[:,ax1],'COR_AXE2':corvar[:,ax2]})\n",
    "    c1 = df_covar [['id','COR_AXE1']] [df_covar['COR_AXE1'].abs()>l1].sort_values(by = 'COR_AXE1', ascending=False)\n",
    "    c2 = df_covar [['id','COR_AXE2']][df_covar['COR_AXE2'].abs()>l2].sort_values(by = 'COR_AXE2', ascending=False)\n",
    "    return display(c1) , display(c2)\n",
    "\n",
    "interact(correl_axes, ax1=wax1, ax2=wax2,l1=limite1, l2 = limite2);"
   ]
  },
  {
   "cell_type": "code",
   "execution_count": null,
   "metadata": {
    "ExecuteTime": {
     "end_time": "2021-04-10T06:39:28.035036Z",
     "start_time": "2021-04-10T06:39:28.025046Z"
    },
    "extensions": {
     "jupyter_dashboards": {
      "version": 1,
      "views": {
       "default_view": {
        "hidden": true
       }
      }
     }
    }
   },
   "outputs": [],
   "source": [
    "idx = pd.DataFrame(X.columns)\n",
    "idx.columns = ['var']\n",
    "df_corvar_all =pd.DataFrame(corvar)\n",
    "df_corvar_all2 = idx.join(df_corvar_all).set_index('var')"
   ]
  },
  {
   "cell_type": "markdown",
   "metadata": {
    "ExecuteTime": {
     "end_time": "2021-04-07T18:39:28.100125Z",
     "start_time": "2021-04-07T18:39:28.092126Z"
    },
    "extensions": {
     "jupyter_dashboards": {
      "version": 1,
      "views": {
       "default_view": {
        "col": 7,
        "height": 2,
        "row": 53,
        "width": 5
       }
      }
     }
    }
   },
   "source": [
    "### Selection du paramètre"
   ]
  },
  {
   "cell_type": "code",
   "execution_count": null,
   "metadata": {
    "ExecuteTime": {
     "end_time": "2021-04-10T06:39:28.106987Z",
     "start_time": "2021-04-10T06:39:28.039040Z"
    },
    "extensions": {
     "jupyter_dashboards": {
      "version": 1,
      "views": {
       "default_view": {
        "col": 7,
        "height": 16,
        "row": 55,
        "width": 5
       }
      }
     }
    }
   },
   "outputs": [],
   "source": [
    "dd_param = widgets.Dropdown(\n",
    "    options=X.columns,\n",
    "    description='Paramètre:',\n",
    ")\n",
    "\n",
    "limite = widgets.FloatSlider(min=0,max=1,step=0.1, value = 0.3)\n",
    "\n",
    "\n",
    "def correl_axes_forVar(f,l): \n",
    "    c = pd.DataFrame(df_corvar_all2.loc [f,:])\n",
    "    c=c[c.abs()>l].dropna()\n",
    "    return display(c)\n",
    "\n",
    "interact(correl_axes_forVar, f = dd_param, l = limite)\n"
   ]
  },
  {
   "cell_type": "markdown",
   "metadata": {
    "extensions": {
     "jupyter_dashboards": {
      "version": 1,
      "views": {
       "default_view": {
        "col": 0,
        "height": 2,
        "row": 71,
        "width": 12
       }
      }
     }
    }
   },
   "source": [
    "# Cercle de Corrélation des paramètres"
   ]
  },
  {
   "cell_type": "code",
   "execution_count": null,
   "metadata": {
    "ExecuteTime": {
     "end_time": "2021-04-10T06:39:28.375796Z",
     "start_time": "2021-04-10T06:39:28.109985Z"
    },
    "extensions": {
     "jupyter_dashboards": {
      "version": 1,
      "views": {
       "default_view": {
        "col": 0,
        "height": 15,
        "row": 73,
        "width": 7
       }
      }
     }
    }
   },
   "outputs": [],
   "source": [
    "y_release = y\n",
    "vsQuanti = pd.DataFrame(y_release)\n",
    "\n",
    "#corrélation avec les axes factoriels\n",
    "corSupp = np.zeros((1,p))\n",
    "for k in range(p):\n",
    "    for j in range(vsQuanti.shape[1]):\n",
    "        corSupp[j,k] = np.corrcoef(vsQuanti.iloc[:,j],coord[:,k])[0,1]\n",
    "        \n",
    "import plotly.graph_objects as go\n",
    "\n",
    "c_varSup= widgets.Checkbox(\n",
    "    value=True,\n",
    "    description='Disso 30mn',\n",
    "    disabled=False,\n",
    "    indent=False\n",
    ")\n",
    "\n",
    "def graph_cercle(ax1, ax2, varSup):\n",
    "    fig = go.Figure()\n",
    "    \n",
    "    # Create scatter trace of text labels\n",
    "    fig.add_trace(\n",
    "        go.Scatter(x=df_corvar_all2[ax1], \n",
    "                    y=df_corvar_all2[ax2],\n",
    "                    mode='markers',\n",
    "                   # name='markers',\n",
    "                   text=df_corvar_all2.index\n",
    "    ))\n",
    "    if varSup:\n",
    "        fig.add_trace(\n",
    "            go.Scatter(x=pd.DataFrame(corSupp)[ax1], \n",
    "                        y=pd.DataFrame(corSupp)[ax2],\n",
    "                        mode='markers',\n",
    "                        name='Disso 30mn',\n",
    "                        marker=dict(\n",
    "                            color='red',\n",
    "                            size=20,\n",
    "        #                     line=dict(\n",
    "        #                         color='MediumPurple',\n",
    "        #                         width=12\n",
    "        #                    ),\n",
    "                        ),\n",
    "                        marker_symbol ='x'\n",
    "\n",
    "    ))\n",
    "    fig.add_trace(\n",
    "        go.Scatter(x=[-1,1], \n",
    "                    y=[0,0],\n",
    "                    mode='lines',\n",
    "                    line_color = 'rgb(192,192,192)'\n",
    "\n",
    "    ))\n",
    "    fig.add_trace(\n",
    "        go.Scatter(x=[0,0], \n",
    "                    y=[-1,1],\n",
    "                    mode='lines',\n",
    "                    line_color = 'rgb(192,192,192)'\n",
    "\n",
    "    ))\n",
    "\n",
    "\n",
    "    # Set axes properties\n",
    "    fig.update_xaxes(range=[-1, 1], zeroline=False)\n",
    "    fig.update_yaxes(range=[-1, 1])\n",
    "    # Add circles\n",
    "    fig.add_shape(type=\"circle\",\n",
    "        xref=\"x\", yref=\"y\",\n",
    "        x0=-1, y0=1, x1=1, y1=-1,\n",
    "        line_color=\"LightSeaGreen\",\n",
    "    )\n",
    "    # Add circles\n",
    "    fig.add_shape(type=\"circle\",\n",
    "        xref=\"x\", yref=\"y\",\n",
    "        x0=-0.5, y0=0.5, x1=0.5, y1=-0.5,\n",
    "        line_color=\"LightSeaGreen\",\n",
    "        fillcolor=\"PaleTurquoise\",\n",
    "        opacity=0.2,\n",
    "    )\n",
    "    #Title\n",
    "    fig.update_layout(title='Cercle de Corrélation')\n",
    "    fig.update_layout(title_x=0.5)\n",
    "    # Set figure size\n",
    "    fig.update_layout(width=500, height=500)\n",
    "    fig.update_layout(showlegend=False)\n",
    "    fig.show()\n",
    "    \n",
    "interact(graph_cercle, ax1=wax1, ax2=wax2, varSup=c_varSup)"
   ]
  },
  {
   "cell_type": "markdown",
   "metadata": {
    "extensions": {
     "jupyter_dashboards": {
      "version": 1,
      "views": {
       "default_view": {
        "col": 7,
        "height": 2,
        "row": 73,
        "width": 5
       }
      }
     }
    }
   },
   "source": [
    "### Correlation de disso 30mn avec les axes"
   ]
  },
  {
   "cell_type": "code",
   "execution_count": null,
   "metadata": {
    "ExecuteTime": {
     "end_time": "2021-04-10T06:39:28.438750Z",
     "start_time": "2021-04-10T06:39:28.378795Z"
    },
    "extensions": {
     "jupyter_dashboards": {
      "version": 1,
      "views": {
       "default_view": {
        "col": 7,
        "height": 13,
        "row": 75,
        "width": 5
       }
      }
     }
    }
   },
   "outputs": [],
   "source": [
    "import ipywidgets as widgets\n",
    "from ipywidgets import interact\n",
    "\n",
    "limite = widgets.FloatSlider(min=0,max=1,step=0.05, value = 0.10)\n",
    "\n",
    "corSupp2 = pd.DataFrame(corSupp).T\n",
    "\n",
    "def correl_release_axes(l):\n",
    "    c3 = corSupp2[~corSupp2[corSupp2.abs()>l].isna()].dropna()\n",
    "\n",
    "    return display(c3) \n",
    "\n",
    "interact(correl_release_axes, l=limite)"
   ]
  },
  {
   "cell_type": "markdown",
   "metadata": {
    "extensions": {
     "jupyter_dashboards": {
      "version": 1,
      "views": {
       "default_view": {
        "col": 0,
        "height": 2,
        "row": 88,
        "width": 12
       }
      }
     }
    }
   },
   "source": [
    "# Positionnement des lots en fonction des Taux de Disso 30mn"
   ]
  },
  {
   "cell_type": "code",
   "execution_count": null,
   "metadata": {
    "ExecuteTime": {
     "end_time": "2021-04-10T06:39:32.400079Z",
     "start_time": "2021-04-10T06:39:28.441750Z"
    },
    "extensions": {
     "jupyter_dashboards": {
      "version": 1,
      "views": {
       "default_view": {
        "col": 0,
        "height": 16,
        "row": 90,
        "width": 12
       }
      }
     }
    }
   },
   "outputs": [],
   "source": [
    "var = 'RELEASE'\n",
    "\n",
    "\n",
    "\n",
    "\n",
    "seuil1 = widgets.FloatSlider(min=30,max=52,step=1, value = 30)\n",
    "seuil2 = widgets.FloatSlider(min=30,max=52,step=1, value = 42)\n",
    "\n",
    "#batch = pd.DataFrame(X.index)\n",
    "X2b = pd.DataFrame(y_release).copy()\n",
    "X2b.reset_index(inplace = True)\n",
    "#X2 = X2.join(batch)\n",
    "\n",
    "def graph_release (s1,s2,ax1,ax2):\n",
    "    NewVar = var+'_cat'\n",
    "    if s1<s2:\n",
    "        if s1 == 30:\n",
    "            X2b[NewVar] = ['sup'+ str(s2) if x >s2 else 'inf'+ str(s2) for x in X2b[var]]\n",
    "        else:\n",
    "            X2b[NewVar] = ['sup'+ str(s2) if x > s2 else 'inf'+ str(s1) if x < s1 else 'neutre'for x in X2b[var]]\n",
    "        coord2 = pd.DataFrame(coord)\n",
    "        coord2 = coord2.join(X2b)\n",
    "\n",
    "        import plotly.express as px\n",
    "        fig = px.scatter(coord2, x=ax1, y=ax2, color=NewVar, hover_name='Batch')\n",
    "        fig.add_trace(go.Scatter(x=[-8,8], y=[0,0], mode='lines', line_color = 'rgb(192,192,192)',showlegend=False))\n",
    "        fig.add_trace(go.Scatter(x=[0,0], y=[-8,8], mode='lines', line_color = 'rgb(192,192,192)',showlegend=False))\n",
    "        fig.update_xaxes(range=[-8,8])\n",
    "        fig.update_yaxes(range=[-8,8])\n",
    "\n",
    "        fig.update_layout(newshape_line=dict(color =('red')))\n",
    "\n",
    "        fig.update_layout(title='Taux Disso 30mn')\n",
    "        fig.update_layout(title_x=0.5)\n",
    "        fig.show()\n",
    "    else:\n",
    "        print('s1 doit inféririeur à s2')\n",
    "    return \n",
    "\n",
    "interact(graph_release,s1=seuil1, s2 = seuil2, ax1 = wax1, ax2=wax2)"
   ]
  },
  {
   "cell_type": "markdown",
   "metadata": {
    "extensions": {
     "jupyter_dashboards": {
      "version": 1,
      "views": {
       "default_view": {
        "col": 0,
        "height": 2,
        "row": 106,
        "width": 12
       }
      }
     }
    }
   },
   "source": [
    "# Postionnement des lots en fonction de l'année"
   ]
  },
  {
   "cell_type": "code",
   "execution_count": null,
   "metadata": {
    "ExecuteTime": {
     "end_time": "2021-04-10T06:39:32.675849Z",
     "start_time": "2021-04-10T06:39:32.403038Z"
    },
    "extensions": {
     "jupyter_dashboards": {
      "version": 1,
      "views": {
       "default_view": {
        "col": 0,
        "height": 17,
        "row": 108,
        "width": 12
       }
      }
     }
    }
   },
   "outputs": [],
   "source": [
    "X2 = X.reset_index().copy()\n",
    "\n",
    "X2 [var] = [2015 if x[0:2] == \"5A\" else \n",
    "              2016 if x[0:2] == \"6A\" else\n",
    "              2017 if x[0:2] == \"7A\" else\n",
    "              2018 if x[0:2] == \"8A\" else\n",
    "              2019 if x[0:2] == \"9A\" else\n",
    "              2020 if x[0:2] == \"AA\" else 0\n",
    "              for x in X2['Batch']\n",
    "             ]\n",
    "\n",
    "\n",
    "wax1 = widgets.Dropdown(\n",
    "            options= [*range(0, len(X.columns), 1)],\n",
    "            value=0,\n",
    "            description='Axe 1:',\n",
    "            disabled=False,\n",
    ")\n",
    "\n",
    "wax2 = widgets.Dropdown(\n",
    "            options= [*range(0, len(X.columns), 1)],\n",
    "            value=1,\n",
    "            description='Axe 2:',\n",
    "            disabled=False,\n",
    ")\n",
    "\n",
    "\n",
    "s_year1 = widgets.IntSlider(min=2015,max=2022,step=1, value = 2015)\n",
    "s_year2 = widgets.IntSlider(min=2015,max=2022,step=1, value = 2018)\n",
    "\n",
    "\n",
    "# X2 = pd.DataFrame(y_release).copy()\n",
    "# X2.reset_index(inplace = True)\n",
    "\n",
    "\n",
    "def graph_year (y_1,y_2,ax1,ax2):\n",
    "    NewVar = var+'_cat'\n",
    "    \n",
    "    if y_1<y_2:\n",
    "        if y_1 == 30:\n",
    "            X2[NewVar] = ['sup'+ str(y_2) if (x >= y_2) else 'inf'+ str(y_2) for x in X2[var]]\n",
    "        else:\n",
    "            X2[NewVar] = ['sup'+ str(y_2) if (x >= y_2) else 'inf'+ str(y_1) if x < y_1 else 'neutre'for x in X2[var]]\n",
    "        coord2 = pd.DataFrame(coord)\n",
    "        coord2 = coord2.join(X2)\n",
    "\n",
    "        import plotly.express as px\n",
    "        fig = px.scatter(coord2, x=ax1, y=ax2, color=NewVar, hover_name='Batch')\n",
    "        fig.add_trace(go.Scatter(x=[-8,8], y=[0,0], mode='lines', line_color = 'rgb(192,192,192)',showlegend=False))\n",
    "        fig.add_trace(go.Scatter(x=[0,0], y=[-8,8], mode='lines', line_color = 'rgb(192,192,192)',showlegend=False))\n",
    "        fig.update_xaxes(range=[-8,8])\n",
    "        fig.update_yaxes(range=[-8,8])\n",
    "\n",
    "        fig.update_layout(newshape_line=dict(color =('red')))\n",
    "\n",
    "        fig.update_layout(title='Taux disso 30mn')\n",
    "        fig.update_layout(title_x=0.5)\n",
    "      #  fig.update_layout(width=900, height=600)\n",
    "        fig.show()\n",
    "    \n",
    "    else:\n",
    "        print('y_1 doit inféririeur à y_2')\n",
    "\n",
    "    return \n",
    "\n",
    "interact(graph_year,y_1=s_year1, y_2 = s_year2, ax1 = wax1, ax2=wax2)"
   ]
  },
  {
   "cell_type": "markdown",
   "metadata": {
    "extensions": {
     "jupyter_dashboards": {
      "version": 1,
      "views": {
       "default_view": {
        "col": 0,
        "height": 2,
        "row": 125,
        "width": 12
       }
      }
     }
    }
   },
   "source": [
    "# Positionnement des lots en fonction d'un paramètre"
   ]
  },
  {
   "cell_type": "code",
   "execution_count": null,
   "metadata": {
    "ExecuteTime": {
     "end_time": "2021-04-10T06:39:32.866238Z",
     "start_time": "2021-04-10T06:39:32.679846Z"
    },
    "extensions": {
     "jupyter_dashboards": {
      "version": 1,
      "views": {
       "default_view": {
        "col": 0,
        "height": 17,
        "row": 127,
        "width": 6
       }
      }
     }
    }
   },
   "outputs": [],
   "source": [
    "from plotly.subplots import make_subplots\n",
    "import plotly.graph_objects as go\n",
    "import plotly.express as px\n",
    "\n",
    "\n",
    "\n",
    "def graph_feature(f):\n",
    "    \n",
    "    fig = make_subplots(rows=1, cols=2)\n",
    "    \n",
    "    fig.add_trace(\n",
    "        go.Scatter(x=X.index, y=X[f],name = 'Evolution'),#showlegend=False),\n",
    "        row=1, col=1\n",
    "    )\n",
    "   \n",
    "    fig.add_trace(\n",
    "        go.Histogram(x=X[f],name = 'Distribution'),#showlegend=False),\n",
    "        row=1, col=2\n",
    "    )     \n",
    "#    fig.update_layout(height=700, width=900, title_text= f)\n",
    "    fig.update_layout(title_x=0.5)\n",
    "    fig.update_layout(legend=dict(orientation=\"h\",yanchor=\"top\",y=1.1,xanchor=\"right\",x=1))\n",
    "    \n",
    "    fig.show()\n",
    "    \n",
    "interact (graph_feature, f = dd_param)\n",
    "#interact (graph_feature2, f = dd_param)\n"
   ]
  },
  {
   "cell_type": "code",
   "execution_count": null,
   "metadata": {
    "ExecuteTime": {
     "end_time": "2021-04-10T06:39:33.096078Z",
     "start_time": "2021-04-10T06:39:32.870236Z"
    },
    "extensions": {
     "jupyter_dashboards": {
      "version": 1,
      "views": {
       "default_view": {
        "col": 6,
        "height": 17,
        "row": 127,
        "width": 6
       }
      }
     }
    }
   },
   "outputs": [],
   "source": [
    "seuil1b = widgets.FloatSlider()\n",
    "seuil2b = widgets.FloatSlider(value = 0.1, step =0.001)\n",
    "\n",
    "\n",
    "def slider_update(change):\n",
    "    \n",
    "    mi = pd.DataFrame(X.min()).to_dict()[0]\n",
    "    ma = pd.DataFrame(X.max()+1).to_dict()[0]\n",
    "\n",
    "    seuil1b.min = 0\n",
    "    seuil1b.value = 0\n",
    "    seuil1b.max = ma[dd_param.value]\n",
    "    \n",
    "    seuil2b.min = 0\n",
    "    seuil2b.value = mi[dd_param.value]\n",
    "    seuil2b.max = ma[dd_param.value]\n",
    "    if ma[dd_param.value] < 0.2:\n",
    "        seuil2b.step = 0.01\n",
    "        \n",
    "    \n",
    "    \n",
    "\n",
    "def graph_feature (f,ax1,ax2,s1,s2):\n",
    "    \n",
    "    X2c = pd.DataFrame(X[f]).copy()\n",
    "    X2c.reset_index(inplace = True)\n",
    "    NewVar = f+'_cat' \n",
    "    \n",
    "    if s1<s2:\n",
    "        if s1 == 0:\n",
    "            X2c[NewVar] = ['sup'+ str(s2) if x >s2 else 'inf'+ str(s2) for x in X2c[f]]\n",
    "        else:\n",
    "            X2c[NewVar] = ['sup'+ str(s2) if x > s2 else 'inf'+ str(s1) if x < s1 else 'neutre'for x in X2c[f]]\n",
    "        coord2 = pd.DataFrame(coord)\n",
    "        coord2 = coord2.join(X2c)\n",
    "\n",
    "        import plotly.express as px\n",
    "        fig = px.scatter(coord2, x=ax1, y=ax2, color=NewVar, hover_name='Batch')\n",
    "        fig.add_trace(go.Scatter(x=[-8,8], y=[0,0], mode='lines', line_color = 'rgb(192,192,192)',showlegend=False))\n",
    "        fig.add_trace(go.Scatter(x=[0,0], y=[-8,8], mode='lines', line_color = 'rgb(192,192,192)',showlegend=False))\n",
    "        fig.update_xaxes(range=[-8,8])\n",
    "        fig.update_yaxes(range=[-8,8])\n",
    "\n",
    "        #fig.update_layout(newshape_line=dict(color =('red')))\n",
    "        fig.update_layout(legend=dict(orientation=\"v\",yanchor=\"top\",y=1.07,xanchor=\"right\",x=1))\n",
    "        fig.update_layout(title=f)\n",
    "        fig.update_layout(title_x=0.5)\n",
    "    #    fig.update_layout(width=900, height=500)\n",
    "        fig.show()\n",
    "    \n",
    "    else:\n",
    "        print('s1 doit inféririeur à s2')\n",
    "    \n",
    "    return  \n",
    "\n",
    "dd_param.observe(slider_update, names='value')\n",
    "interact (graph_feature, f = dd_param,  ax1 = wax1, ax2 = wax2,s1 = seuil1b, s2=seuil2b)"
   ]
  },
  {
   "cell_type": "code",
   "execution_count": null,
   "metadata": {
    "ExecuteTime": {
     "end_time": "2021-04-10T06:39:33.409852Z",
     "start_time": "2021-04-10T06:39:33.101071Z"
    },
    "extensions": {
     "jupyter_dashboards": {
      "version": 1,
      "views": {
       "default_view": {
        "hidden": true
       }
      }
     }
    },
    "hide_input": false
   },
   "outputs": [],
   "source": [
    "#Xt = pd.DataFrame (coord)[[0,1]]\n",
    "Xt = pd.DataFrame (coord)\n",
    "#Xt = pd.DataFrame(X['Temperature_sortie_REFROIDISSEMENT']-X['Temperature_entree_REFROIDISSEMENT'])\n",
    "#Xt = pd.DataFrame(X[['Granulometrie: d(50)-MEAN', 'Granulometrie: d(90)-MEAN']])\n",
    "#Xt = pd.DataFrame (coord)[[0,1,3,11,13,19,23,26,27,55]]\n",
    "y = pd.DataFrame(y_release)\n",
    "\n",
    "y_mov = y.rolling(10,min_periods=1).mean() \n",
    "\n",
    "\n",
    "from sklearn import datasets, linear_model\n",
    "from sklearn.metrics import mean_squared_error, r2_score\n",
    "\n",
    "\n",
    "\n",
    "\n",
    "from sklearn.model_selection import train_test_split\n",
    "X_train, X_val, y_train, y_val = train_test_split(Xt, y_mov, test_size=0.2, random_state=42)\n",
    "# print('X_train: ', X_train.shape)\n",
    "# print('X_val: ', X_val.shape)\n",
    "# print('y_train: ', y_train.shape)\n",
    "# print('y_val: ', y_val.shape)\n",
    "# print()\n",
    "\n",
    "# # Create linear regression object\n",
    "model = linear_model.LinearRegression()\n",
    "model.fit(X_train,y_train)\n",
    "# print('Coefficients: \\n', model.coef_)\n",
    "# print()\n",
    "\n",
    "# #Xgboost\n",
    "# import xgboost as xgb\n",
    "# model = xgb.XGBRegressor()\n",
    "# model.fit(X_train, y_train)\n",
    "\n",
    "\n",
    "# #SVR\n",
    "# from sklearn.svm import SVR\n",
    "# model = SVR(kernel = 'linear')\n",
    "# model.fit(X_train, y_train)\n",
    "\n",
    "# Make predictions using the testing set\n",
    "y_val_pred = model.predict(X_val)\n",
    "y_train_pred = model.predict(X_train)\n",
    "\n",
    "# The mean squared error\n",
    "\n",
    "# print ('***train***')\n",
    "# print('Mean squared error on train: {:.2f}, sqrt: {:.2f}'.format(mean_squared_error(y_train, y_train_pred),\n",
    "#                                                            np.sqrt(mean_squared_error(y_train, y_train_pred))\n",
    "#                                                           )\n",
    "# )\n",
    "      \n",
    "# print('R² : %.2f'\n",
    "#       % r2_score(y_train, y_train_pred))\n",
    "\n",
    "# print()\n",
    "# print ('***val***')\n",
    "# # The mean squared error\n",
    "# print('Mean squared error: {:.2f}, sqrt: {:.2f}'.format(mean_squared_error(y_val, y_val_pred),\n",
    "#                                                         np.sqrt(mean_squared_error(y_val, y_val_pred))\n",
    "#                                                 )\n",
    "#      )\n",
    "# print('R² on Val: %.2f'\n",
    "#       % r2_score(y_val, y_val_pred))\n",
    "\n",
    "\n",
    "# Plot outputs\n",
    "#plt.scatter(Xt, y,  color='black')\n",
    "#plt.plot(Xt, y_pred, color='blue', linewidth=3)\n",
    "\n",
    "#plt.xticks(())\n",
    "#plt.yticks(())\n",
    "\n",
    "#plt.show()"
   ]
  },
  {
   "cell_type": "code",
   "execution_count": null,
   "metadata": {
    "ExecuteTime": {
     "end_time": "2021-04-10T06:39:33.614703Z",
     "start_time": "2021-04-10T06:39:33.417847Z"
    },
    "extensions": {
     "jupyter_dashboards": {
      "version": 1,
      "views": {
       "default_view": {
        "col": 0,
        "height": 18,
        "row": 2,
        "width": 12
       }
      }
     }
    }
   },
   "outputs": [],
   "source": [
    "dim_reg =  widgets.Dropdown(\n",
    "    options=[i for i in range(1,len(X.columns))],\n",
    "    value=45,\n",
    "    description='Dimension:',\n",
    "    disabled=False,\n",
    ")\n",
    "\n",
    "c_act= widgets.Checkbox(\n",
    "    value=True,\n",
    "    description='Disso 30mn',\n",
    "    disabled=False,\n",
    "    indent=False\n",
    ")\n",
    "\n",
    "\n",
    "def graph_disso30mn (d, c): \n",
    "    \n",
    "    Xx = pd.DataFrame (coord)[[x for x in range(0,d)]]\n",
    "    y = pd.DataFrame(y_release)\n",
    "    model.fit(Xx,y)\n",
    "    y_pred = model.predict(Xx)\n",
    "    fig = make_subplots(rows=1, cols=1)\n",
    "    \n",
    "    if c:\n",
    "        fig.add_trace(go.Scatter(x=y.index, y=y['RELEASE'], name = 'Disso 30mn'))\n",
    "        fig.add_trace(go.Scatter(x=y.index, y=pd.DataFrame(y_pred)[0], name ='Disso 30 en fonction des Process, MP, PA'))\n",
    "        fig.add_trace(go.Scatter(x=y.index, y=y_mov['RELEASE'], name ='Disso 30mn en moyenne mobile'))\n",
    "    else:\n",
    " \n",
    "        fig.add_trace(go.Scatter(x=y.index, y=pd.DataFrame(y_pred)[0], name ='Disso 30 en fonction des Process, MP, PA'))\n",
    "        fig.add_trace(go.Scatter(x=y.index, y=y_mov['RELEASE'], name ='Disso 30mn en moyenne mobile'))\n",
    "\n",
    "   # fig.update_layout(height=400, width=900, title_text= 'Reconstruction du taux de Dissolution 30mn (DRONEDARONE)')\n",
    "    fig.update_layout( title_text= 'Reconstruction du taux de dissolution à 30mn (DRONEDARONE)')\n",
    "    fig.update_layout(title_x=0.5)\n",
    "    fig.update_layout(legend=dict(orientation=\"h\",yanchor=\"bottom\",y=-0.3,xanchor=\"right\",x=1))\n",
    "    #fig.update_xaxes(range=[-8,8])\n",
    "    #fig.update_yaxes(range=[35,50])\n",
    "    \n",
    "    fig.show()\n",
    "    y1 = y_mov.reset_index(drop = True).copy()\n",
    "    y1.columns = ['mov']\n",
    "    y2=pd.DataFrame(y_pred)\n",
    "    y2.columns = ['pred']\n",
    "    z=y1.join(y2)\n",
    "    print ('Correlation: {:.2f}%'.format(z.corr().iloc[0,1]))\n",
    "    \n",
    "interact (graph_disso30mn, d=dim_reg, c= c_act)\n",
    "    "
   ]
  }
 ],
 "metadata": {
  "celltoolbar": "Edit Metadata",
  "extensions": {
   "jupyter_dashboards": {
    "activeView": "default_view",
    "version": 1,
    "views": {
     "default_view": {
      "cellMargin": 10,
      "defaultCellHeight": 40,
      "maxColumns": 12,
      "name": "active_view",
      "type": "grid"
     }
    }
   }
  },
  "kernelspec": {
   "display_name": "Python 3",
   "language": "python",
   "name": "python3"
  },
  "language_info": {
   "codemirror_mode": {
    "name": "ipython",
    "version": 3
   },
   "file_extension": ".py",
   "mimetype": "text/x-python",
   "name": "python",
   "nbconvert_exporter": "python",
   "pygments_lexer": "ipython3",
   "version": "3.7.5"
  },
  "toc": {
   "base_numbering": 1,
   "nav_menu": {},
   "number_sections": true,
   "sideBar": true,
   "skip_h1_title": false,
   "title_cell": "Table of Contents",
   "title_sidebar": "Contents",
   "toc_cell": false,
   "toc_position": {
    "height": "calc(100% - 180px)",
    "left": "10px",
    "top": "150px",
    "width": "241px"
   },
   "toc_section_display": true,
   "toc_window_display": false
  }
 },
 "nbformat": 4,
 "nbformat_minor": 4
}
