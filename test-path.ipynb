{
 "cells": [
  {
   "cell_type": "code",
   "execution_count": 6,
   "metadata": {
    "ExecuteTime": {
     "end_time": "2021-04-10T06:01:41.341963Z",
     "start_time": "2021-04-10T06:01:41.335964Z"
    }
   },
   "outputs": [],
   "source": [
    "from pathlib import Path\n",
    "p = Path()\n"
   ]
  },
  {
   "cell_type": "code",
   "execution_count": 9,
   "metadata": {
    "ExecuteTime": {
     "end_time": "2021-04-10T06:02:02.680041Z",
     "start_time": "2021-04-10T06:02:02.670037Z"
    }
   },
   "outputs": [
    {
     "name": "stdout",
     "output_type": "stream",
     "text": [
      "resolve:  C:\\Users\\i0438403\\OneDrive - Sanofi\\Desktop\\Project-Labo\\correlation-stat-dev\\dev7-pca(process&MP)\n",
      "home:  C:\\Users\\i0438403\n",
      "cwd:  C:\\Users\\i0438403\\OneDrive - Sanofi\\desktop\\Project-Labo\\correlation-stat-dev\\dev7-pca(process&MP)\n"
     ]
    }
   ],
   "source": [
    "print('resolve: ',p.resolve())\n",
    "print('home: ',p.home())\n",
    "print('cwd: ',p.cwd())\n"
   ]
  },
  {
   "cell_type": "code",
   "execution_count": 10,
   "metadata": {
    "ExecuteTime": {
     "end_time": "2021-04-10T06:02:05.846803Z",
     "start_time": "2021-04-10T06:02:05.823755Z"
    }
   },
   "outputs": [
    {
     "data": {
      "text/plain": [
       "[WindowsPath('.ipynb_checkpoints'),\n",
       " WindowsPath('data'),\n",
       " WindowsPath('env-pca-correl4'),\n",
       " WindowsPath('temp_data')]"
      ]
     },
     "execution_count": 10,
     "metadata": {},
     "output_type": "execute_result"
    }
   ],
   "source": [
    "p = Path('.')\n",
    "[x for x in p.iterdir() if x.is_dir()]"
   ]
  },
  {
   "cell_type": "code",
   "execution_count": null,
   "metadata": {},
   "outputs": [],
   "source": []
  }
 ],
 "metadata": {
  "kernelspec": {
   "display_name": "env-pca-correl4",
   "language": "python",
   "name": "env-pca-correl4"
  },
  "language_info": {
   "codemirror_mode": {
    "name": "ipython",
    "version": 3
   },
   "file_extension": ".py",
   "mimetype": "text/x-python",
   "name": "python",
   "nbconvert_exporter": "python",
   "pygments_lexer": "ipython3",
   "version": "3.7.6"
  }
 },
 "nbformat": 4,
 "nbformat_minor": 4
}
